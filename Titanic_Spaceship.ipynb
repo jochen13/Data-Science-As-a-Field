{
  "cells": [
    {
      "cell_type": "markdown",
      "metadata": {
        "id": "view-in-github",
        "colab_type": "text"
      },
      "source": [
        "<a href=\"https://colab.research.google.com/github/jochen13/Data-Science-As-a-Field/blob/main/Titanic_Spaceship.ipynb\" target=\"_parent\"><img src=\"https://colab.research.google.com/assets/colab-badge.svg\" alt=\"Open In Colab\"/></a>"
      ]
    },
    {
      "cell_type": "markdown",
      "metadata": {
        "id": "fTlXtA79gtji"
      },
      "source": [
        "#Titanic Spaceship Machine Learning Project\n",
        "\n",
        "The final project I have choose is taken from Kaggle. It is called Spaceship Titanic and the goal of the Machine Leaning task is to predict if a passenger on the spaceship has been transported to an alternate dimension. The dataset given by Kaggle is a csv file with personal records of each passenger. These records can be split up into features to predict if a passenger has been transported and the label which is either true or false. This is a binary classification problem and several Machine Learning algorithms are tried and compared in order to solve this problem. I have choosen to try Adaboost, Random Forest and Support Vector Machine ML Algorithms. The notebook is split into different parts and all tasks are functionalized in order to organize the notebook. Below are the steps:\n",
        "1. Import all the necessary libraries\n",
        "2. Load the csv file\n",
        "3. Clean the data by dropping unecessary features, fill nan with medians, convert string data to numerical and replace True/False with 1 and 0.\n",
        "4. Display the correlation matrix\n",
        "5. Normalize the dataset using min/max normalization\n",
        "6. Split the data into a Train and Test set\n",
        "7. Run a Gridsearch for 3 models (Adaboost, Random Forest and SVM) to find the best hyperparameters\n",
        "8. Train 3 models (Adaboost, Random Forest and SVM)\n",
        "9. Display the training and test scores for each model\n",
        "10. Conclusion\n",
        "\n",
        "Link to the project on github: https://github.com/jochen13/Data-Science-As-a-Field/blob/main/Titanic_Spaceship.ipynb"
      ]
    },
    {
      "cell_type": "markdown",
      "source": [
        "## Import Statements\n",
        "Here the following libraries are imported:\n",
        "1. Pandas\n",
        "2. Numpy\n",
        "3. Sklearn support for Adaboost, LinearSVC, RandomForestClassifier, GridSearch and train_test_split\n",
        "4. Matplotlib"
      ],
      "metadata": {
        "id": "lCzdaEMuxc9P"
      }
    },
    {
      "cell_type": "code",
      "execution_count": 1,
      "metadata": {
        "id": "LGWA0EgRWOhK"
      },
      "outputs": [],
      "source": [
        "import pandas as pd\n",
        "import numpy as np\n",
        "from sklearn.model_selection import train_test_split\n",
        "from sklearn.ensemble import AdaBoostClassifier\n",
        "from sklearn.svm import LinearSVC\n",
        "from sklearn.ensemble import RandomForestClassifier\n",
        "from sklearn.model_selection import GridSearchCV\n",
        "import matplotlib.pyplot as plt"
      ]
    },
    {
      "cell_type": "markdown",
      "metadata": {
        "id": "O4j2_AhjWu6U"
      },
      "source": [
        "## Data Loading, normalization and dispaly of a correlation matrix\n",
        "This sections consists of functions to do the following tasks:\n",
        "1. Load the data into a dataframe\n",
        "2. Fill Nan, factorize data and normalize (min/max normalization)\n",
        "3. Create correlation matrix"
      ]
    },
    {
      "cell_type": "code",
      "execution_count": 2,
      "metadata": {
        "id": "brL69Y_6WqgY"
      },
      "outputs": [],
      "source": [
        "def load_data(filename: str = 'train.csv') -> pd.DataFrame:\n",
        "  return pd.read_csv(filename)"
      ]
    },
    {
      "cell_type": "code",
      "execution_count": 3,
      "metadata": {
        "id": "YN-hj2clW8W2"
      },
      "outputs": [],
      "source": [
        "def normalize_dataframe(df: pd.DataFrame) -> pd.DataFrame:\n",
        "  #train_data.dropna(inplace=True)\n",
        "  df.drop(columns=['PassengerId', 'Name'], inplace=True)\n",
        "  df = df * 1\n",
        "\n",
        "  values, index = pd.factorize(df.HomePlanet)\n",
        "  df.HomePlanet = values\n",
        "\n",
        "  values, index = pd.factorize(df.Destination)\n",
        "  df.Destination = values\n",
        "\n",
        "  values, index = pd.factorize(df.Cabin)\n",
        "  df.Cabin = values\n",
        "\n",
        "  df[df.columns] = df[df.columns].apply(pd.to_numeric, errors='coerce')\n",
        "  df = df.fillna(df.median())\n",
        "\n",
        "  return df"
      ]
    },
    {
      "cell_type": "code",
      "execution_count": 4,
      "metadata": {
        "id": "9A_kw_fsX-Yi"
      },
      "outputs": [],
      "source": [
        "def display_correlation_matrix(df: pd.DataFrame) -> None:\n",
        "  display(df.corr().style.background_gradient(cmap='coolwarm').format(precision=2))"
      ]
    },
    {
      "cell_type": "code",
      "execution_count": 5,
      "metadata": {
        "id": "Tu5DfxdNYDXM"
      },
      "outputs": [],
      "source": [
        "def create_labels_and_features(df: pd.DataFrame):\n",
        "  y = np.array(df['Transported'])\n",
        "\n",
        "  df_min_max_scaled = df.drop(columns=['Transported']).copy()\n",
        "  for column in df_min_max_scaled.columns:\n",
        "    df_min_max_scaled[column] = (df_min_max_scaled[column] - df_min_max_scaled[column].min()) / (df_min_max_scaled[column].max() - df_min_max_scaled[column].min())\n",
        "  X = np.array(df_min_max_scaled)\n",
        "\n",
        "  return X, y"
      ]
    },
    {
      "cell_type": "markdown",
      "metadata": {
        "id": "M5Hj06ojYcC-"
      },
      "source": [
        "## Split the dataset into a training and test set"
      ]
    },
    {
      "cell_type": "code",
      "execution_count": 6,
      "metadata": {
        "id": "IBnIHI6jYZIm"
      },
      "outputs": [],
      "source": [
        "def split_into_test_and_train_sets(X: np.array, y: np.array):\n",
        "  return train_test_split(X, y, test_size=0.2, random_state=42)"
      ]
    },
    {
      "cell_type": "markdown",
      "metadata": {
        "id": "dmxhzFtkYjJr"
      },
      "source": [
        "## Adaboost Classifier\n",
        "In this section of the notebook the following is done:\n",
        "\n",
        "1. Run a GridSearch on 3 hyperparameters for the Adaboost Classifier\n",
        "2. Use the best parameters to then train a Adaboost Classifier on the Titanic Spaceship dataset\n"
      ]
    },
    {
      "cell_type": "code",
      "source": [
        "def adaBoostGridSearch(X_train: np.array, y_train: np.array):\n",
        "  # Define the hyperparameter grid\n",
        "  param_grid = {\n",
        "    \"learning_rate\": [0.25, 0.5,1],\n",
        "    \"n_estimators\": [100, 200, 300, 1000],\n",
        "    \"algorithm\": [\"SAMME\", \"SAMME.R\"],\n",
        "    'random_state' : [0]\n",
        "  }\n",
        "\n",
        "  # Create the random forest classifier\n",
        "  ada_classifier = AdaBoostClassifier()\n",
        "\n",
        "  # Initialize GridSearchCV\n",
        "  grid_search = GridSearchCV(ada_classifier, param_grid=param_grid, scoring='accuracy')\n",
        "\n",
        "  # Fit the model to your data\n",
        "  grid_search.fit(X_train, y_train)\n",
        "\n",
        "  # Get the best hyperparameters\n",
        "  best_params = grid_search.best_params_\n",
        "  print(f\"Best Hyperparameters: {best_params}\")\n",
        "  return grid_search.best_params_"
      ],
      "metadata": {
        "id": "fx9yBuQq82A_"
      },
      "execution_count": 7,
      "outputs": []
    },
    {
      "cell_type": "code",
      "execution_count": 8,
      "metadata": {
        "id": "Mjgbjza5Ye7Q"
      },
      "outputs": [],
      "source": [
        "def adaboostAlgo(best_params_ada, X_train: np.array, y_train: np.array, X_test: np.array, y_test: np.array):\n",
        "  ada = AdaBoostClassifier(**best_params_ada).fit(X_train, y_train)\n",
        "  print(f\"Adaboost: Training score: {ada.score(X_train, y_train)} | Test score: {ada.score(X_test, y_test)}\")\n",
        "  return ada"
      ]
    },
    {
      "cell_type": "markdown",
      "metadata": {
        "id": "vzmFu44KOq7X"
      },
      "source": [
        "## Random Forest Classifier\n",
        "In this section of the notebook the following is done:\n",
        "1. Run a GridSearch on 4 hyperparameters for the Random Forest Classifier\n",
        "2. Use the best parameters to then train a Random Forest Classifier on the Titanic Spaceship dataset"
      ]
    },
    {
      "cell_type": "code",
      "execution_count": 9,
      "metadata": {
        "id": "pMt21-9GcbpX"
      },
      "outputs": [],
      "source": [
        "def randomForestGridSearch(X_train: np.array, y_train: np.array):\n",
        "  # Define the hyperparameter grid\n",
        "  param_grid = {\n",
        "    'n_estimators': [100, 200, 300],\n",
        "    'max_depth': [None, 10, 20],\n",
        "    'min_samples_split': [2, 5, 10],\n",
        "    'min_samples_leaf': [1, 2, 4],\n",
        "    'random_state' : [0]\n",
        "  }\n",
        "\n",
        "  # Create the random forest classifier\n",
        "  rf_classifier = RandomForestClassifier()\n",
        "\n",
        "  # Initialize GridSearchCV\n",
        "  grid_search = GridSearchCV(estimator=rf_classifier, param_grid=param_grid, cv=5, scoring='accuracy')\n",
        "\n",
        "  # Fit the model to your data\n",
        "  grid_search.fit(X_train, y_train)\n",
        "\n",
        "  # Get the best hyperparameters\n",
        "  best_params = grid_search.best_params_\n",
        "  print(f\"Best Hyperparameters: {best_params}\")\n",
        "  return grid_search.best_params_"
      ]
    },
    {
      "cell_type": "code",
      "execution_count": 10,
      "metadata": {
        "id": "-JT57qoLOZbU"
      },
      "outputs": [],
      "source": [
        "def randomForest(best_params_rf, X_train: np.array, y_train: np.array, X_test: np.array, y_test: np.array):\n",
        "  rf = RandomForestClassifier(**best_params_rf).fit(X_train, y_train)\n",
        "  print(f\"Random Forest: Training score: {rf.score(X_train, y_train)} | Test score: {rf.score(X_test, y_test)}\")\n",
        "  return rf"
      ]
    },
    {
      "cell_type": "markdown",
      "metadata": {
        "id": "IieJID6mO9M7"
      },
      "source": [
        "## Support Vector Machine ML Algorithm\n",
        "In this section of the notebook the following is done:\n",
        "\n",
        "1. Run a GridSearch on 2 hyperparameters for the SVM Classifier\n",
        "2. Use the best parameters to then train a SVM Classifier on the Titanic Spaceship dataset\n"
      ]
    },
    {
      "cell_type": "code",
      "source": [
        "def svmGridSearch(X_train: np.array, y_train: np.array):\n",
        "  # Define the hyperparameter grid\n",
        "  param_grid = {\n",
        "    'max_iter': [500, 1000, 1500],\n",
        "    'tol': [1e-4, 1e-5, 1e-6],\n",
        "    'random_state' : [0]\n",
        "  }\n",
        "\n",
        "  # Create the random forest classifier\n",
        "  svm_classifier = LinearSVC()\n",
        "\n",
        "  # Initialize GridSearchCV\n",
        "  grid_search = GridSearchCV(estimator=svm_classifier, param_grid=param_grid, cv=5, scoring='accuracy')\n",
        "\n",
        "  # Fit the model to your data\n",
        "  grid_search.fit(X_train, y_train)\n",
        "\n",
        "  # Get the best hyperparameters\n",
        "  best_params = grid_search.best_params_\n",
        "  print(f\"Best Hyperparameters: {best_params}\")\n",
        "  return grid_search.best_params_"
      ],
      "metadata": {
        "id": "-pLev1r1Ef3t"
      },
      "execution_count": 11,
      "outputs": []
    },
    {
      "cell_type": "code",
      "execution_count": 14,
      "metadata": {
        "id": "n4OzG_kuPKG-"
      },
      "outputs": [],
      "source": [
        "def linear_svm(best_params_svm, X_train: np.array, y_train: np.array, X_test: np.array, y_test: np.array):\n",
        "  svm = LinearSVC(**best_params_svm).fit(X_train, y_train)\n",
        "  print(f\"SVM: Training score: {svm.score(X_train, y_train)} | Test score: {svm.score(X_test, y_test)}\")\n",
        "  return svm"
      ]
    },
    {
      "cell_type": "code",
      "execution_count": 15,
      "metadata": {
        "colab": {
          "base_uri": "https://localhost:8080/",
          "height": 426
        },
        "id": "y9mnZkwONK3n",
        "outputId": "1882dc71-f2b5-493d-be22-0d66b0acb54d"
      },
      "outputs": [
        {
          "output_type": "display_data",
          "data": {
            "text/plain": [
              "<pandas.io.formats.style.Styler at 0x7c2741b15930>"
            ],
            "text/html": [
              "<style type=\"text/css\">\n",
              "#T_d3411_row0_col0, #T_d3411_row1_col1, #T_d3411_row2_col2, #T_d3411_row3_col3, #T_d3411_row4_col4, #T_d3411_row5_col5, #T_d3411_row6_col6, #T_d3411_row7_col7, #T_d3411_row8_col8, #T_d3411_row9_col9, #T_d3411_row10_col10, #T_d3411_row11_col11 {\n",
              "  background-color: #b40426;\n",
              "  color: #f1f1f1;\n",
              "}\n",
              "#T_d3411_row0_col1, #T_d3411_row3_col6, #T_d3411_row7_col8 {\n",
              "  background-color: #6e90f2;\n",
              "  color: #f1f1f1;\n",
              "}\n",
              "#T_d3411_row0_col2, #T_d3411_row4_col2 {\n",
              "  background-color: #3c4ec2;\n",
              "  color: #f1f1f1;\n",
              "}\n",
              "#T_d3411_row0_col3, #T_d3411_row0_col4, #T_d3411_row0_col7, #T_d3411_row0_col10, #T_d3411_row1_col2, #T_d3411_row1_col5, #T_d3411_row1_col6, #T_d3411_row1_col8, #T_d3411_row6_col1, #T_d3411_row6_col11, #T_d3411_row7_col0, #T_d3411_row7_col2, #T_d3411_row9_col2, #T_d3411_row11_col6, #T_d3411_row11_col9 {\n",
              "  background-color: #3b4cc0;\n",
              "  color: #f1f1f1;\n",
              "}\n",
              "#T_d3411_row0_col5, #T_d3411_row0_col9, #T_d3411_row3_col2 {\n",
              "  background-color: #3e51c5;\n",
              "  color: #f1f1f1;\n",
              "}\n",
              "#T_d3411_row0_col6 {\n",
              "  background-color: #abc8fd;\n",
              "  color: #000000;\n",
              "}\n",
              "#T_d3411_row0_col8, #T_d3411_row8_col6, #T_d3411_row10_col3 {\n",
              "  background-color: #88abfd;\n",
              "  color: #000000;\n",
              "}\n",
              "#T_d3411_row0_col11 {\n",
              "  background-color: #5f7fe8;\n",
              "  color: #f1f1f1;\n",
              "}\n",
              "#T_d3411_row1_col0, #T_d3411_row2_col1, #T_d3411_row5_col8, #T_d3411_row6_col9, #T_d3411_row7_col6, #T_d3411_row9_col8, #T_d3411_row10_col5 {\n",
              "  background-color: #7699f6;\n",
              "  color: #f1f1f1;\n",
              "}\n",
              "#T_d3411_row1_col3 {\n",
              "  background-color: #8fb1fe;\n",
              "  color: #000000;\n",
              "}\n",
              "#T_d3411_row1_col4, #T_d3411_row10_col1, #T_d3411_row11_col4 {\n",
              "  background-color: #465ecf;\n",
              "  color: #f1f1f1;\n",
              "}\n",
              "#T_d3411_row1_col7 {\n",
              "  background-color: #4b64d5;\n",
              "  color: #f1f1f1;\n",
              "}\n",
              "#T_d3411_row1_col9, #T_d3411_row9_col11, #T_d3411_row11_col10 {\n",
              "  background-color: #3f53c6;\n",
              "  color: #f1f1f1;\n",
              "}\n",
              "#T_d3411_row1_col10, #T_d3411_row7_col1, #T_d3411_row8_col1, #T_d3411_row10_col2, #T_d3411_row10_col11 {\n",
              "  background-color: #4358cb;\n",
              "  color: #f1f1f1;\n",
              "}\n",
              "#T_d3411_row1_col11, #T_d3411_row11_col1 {\n",
              "  background-color: #ecd3c5;\n",
              "  color: #000000;\n",
              "}\n",
              "#T_d3411_row2_col0, #T_d3411_row2_col11, #T_d3411_row5_col3, #T_d3411_row9_col4 {\n",
              "  background-color: #80a3fa;\n",
              "  color: #f1f1f1;\n",
              "}\n",
              "#T_d3411_row2_col3 {\n",
              "  background-color: #7295f4;\n",
              "  color: #f1f1f1;\n",
              "}\n",
              "#T_d3411_row2_col4 {\n",
              "  background-color: #5977e3;\n",
              "  color: #f1f1f1;\n",
              "}\n",
              "#T_d3411_row2_col5 {\n",
              "  background-color: #5470de;\n",
              "  color: #f1f1f1;\n",
              "}\n",
              "#T_d3411_row2_col6 {\n",
              "  background-color: #799cf8;\n",
              "  color: #f1f1f1;\n",
              "}\n",
              "#T_d3411_row2_col7 {\n",
              "  background-color: #7ea1fa;\n",
              "  color: #f1f1f1;\n",
              "}\n",
              "#T_d3411_row2_col8, #T_d3411_row5_col4, #T_d3411_row7_col5, #T_d3411_row8_col9 {\n",
              "  background-color: #779af7;\n",
              "  color: #f1f1f1;\n",
              "}\n",
              "#T_d3411_row2_col9, #T_d3411_row6_col10 {\n",
              "  background-color: #7093f3;\n",
              "  color: #f1f1f1;\n",
              "}\n",
              "#T_d3411_row2_col10, #T_d3411_row10_col4 {\n",
              "  background-color: #7a9df8;\n",
              "  color: #f1f1f1;\n",
              "}\n",
              "#T_d3411_row3_col0 {\n",
              "  background-color: #4961d2;\n",
              "  color: #f1f1f1;\n",
              "}\n",
              "#T_d3411_row3_col1, #T_d3411_row8_col0 {\n",
              "  background-color: #96b7ff;\n",
              "  color: #000000;\n",
              "}\n",
              "#T_d3411_row3_col4 {\n",
              "  background-color: #5d7ce6;\n",
              "  color: #f1f1f1;\n",
              "}\n",
              "#T_d3411_row3_col5 {\n",
              "  background-color: #5e7de7;\n",
              "  color: #f1f1f1;\n",
              "}\n",
              "#T_d3411_row3_col7 {\n",
              "  background-color: #9fbfff;\n",
              "  color: #000000;\n",
              "}\n",
              "#T_d3411_row3_col8 {\n",
              "  background-color: #6b8df0;\n",
              "  color: #f1f1f1;\n",
              "}\n",
              "#T_d3411_row3_col9 {\n",
              "  background-color: #84a7fc;\n",
              "  color: #f1f1f1;\n",
              "}\n",
              "#T_d3411_row3_col10 {\n",
              "  background-color: #8badfd;\n",
              "  color: #000000;\n",
              "}\n",
              "#T_d3411_row3_col11, #T_d3411_row4_col9 {\n",
              "  background-color: #97b8ff;\n",
              "  color: #000000;\n",
              "}\n",
              "#T_d3411_row4_col0 {\n",
              "  background-color: #6180e9;\n",
              "  color: #f1f1f1;\n",
              "}\n",
              "#T_d3411_row4_col1, #T_d3411_row6_col3 {\n",
              "  background-color: #6687ed;\n",
              "  color: #f1f1f1;\n",
              "}\n",
              "#T_d3411_row4_col3, #T_d3411_row8_col10 {\n",
              "  background-color: #7396f5;\n",
              "  color: #f1f1f1;\n",
              "}\n",
              "#T_d3411_row4_col5, #T_d3411_row8_col3 {\n",
              "  background-color: #6c8ff1;\n",
              "  color: #f1f1f1;\n",
              "}\n",
              "#T_d3411_row4_col6, #T_d3411_row11_col7 {\n",
              "  background-color: #8db0fe;\n",
              "  color: #000000;\n",
              "}\n",
              "#T_d3411_row4_col7 {\n",
              "  background-color: #a5c3fe;\n",
              "  color: #000000;\n",
              "}\n",
              "#T_d3411_row4_col8, #T_d3411_row8_col11 {\n",
              "  background-color: #7b9ff9;\n",
              "  color: #f1f1f1;\n",
              "}\n",
              "#T_d3411_row4_col10, #T_d3411_row7_col3 {\n",
              "  background-color: #93b5fe;\n",
              "  color: #000000;\n",
              "}\n",
              "#T_d3411_row4_col11, #T_d3411_row5_col1, #T_d3411_row8_col4 {\n",
              "  background-color: #6485ec;\n",
              "  color: #f1f1f1;\n",
              "}\n",
              "#T_d3411_row5_col0, #T_d3411_row5_col11, #T_d3411_row6_col4, #T_d3411_row10_col8 {\n",
              "  background-color: #6f92f3;\n",
              "  color: #f1f1f1;\n",
              "}\n",
              "#T_d3411_row5_col2 {\n",
              "  background-color: #4055c8;\n",
              "  color: #f1f1f1;\n",
              "}\n",
              "#T_d3411_row5_col6 {\n",
              "  background-color: #89acfd;\n",
              "  color: #000000;\n",
              "}\n",
              "#T_d3411_row5_col7 {\n",
              "  background-color: #a3c2fe;\n",
              "  color: #000000;\n",
              "}\n",
              "#T_d3411_row5_col9 {\n",
              "  background-color: #85a8fc;\n",
              "  color: #f1f1f1;\n",
              "}\n",
              "#T_d3411_row5_col10 {\n",
              "  background-color: #9abbff;\n",
              "  color: #000000;\n",
              "}\n",
              "#T_d3411_row6_col0 {\n",
              "  background-color: #b1cbfc;\n",
              "  color: #000000;\n",
              "}\n",
              "#T_d3411_row6_col2 {\n",
              "  background-color: #3d50c3;\n",
              "  color: #f1f1f1;\n",
              "}\n",
              "#T_d3411_row6_col5 {\n",
              "  background-color: #6282ea;\n",
              "  color: #f1f1f1;\n",
              "}\n",
              "#T_d3411_row6_col7, #T_d3411_row8_col7, #T_d3411_row9_col6 {\n",
              "  background-color: #7da0f9;\n",
              "  color: #f1f1f1;\n",
              "}\n",
              "#T_d3411_row6_col8 {\n",
              "  background-color: #81a4fb;\n",
              "  color: #f1f1f1;\n",
              "}\n",
              "#T_d3411_row7_col4, #T_d3411_row9_col3 {\n",
              "  background-color: #82a6fb;\n",
              "  color: #f1f1f1;\n",
              "}\n",
              "#T_d3411_row7_col9 {\n",
              "  background-color: #b3cdfb;\n",
              "  color: #000000;\n",
              "}\n",
              "#T_d3411_row7_col10 {\n",
              "  background-color: #b6cefa;\n",
              "  color: #000000;\n",
              "}\n",
              "#T_d3411_row7_col11 {\n",
              "  background-color: #86a9fc;\n",
              "  color: #f1f1f1;\n",
              "}\n",
              "#T_d3411_row8_col2, #T_d3411_row11_col2 {\n",
              "  background-color: #445acc;\n",
              "  color: #f1f1f1;\n",
              "}\n",
              "#T_d3411_row8_col5 {\n",
              "  background-color: #5572df;\n",
              "  color: #f1f1f1;\n",
              "}\n",
              "#T_d3411_row9_col0 {\n",
              "  background-color: #4c66d6;\n",
              "  color: #f1f1f1;\n",
              "}\n",
              "#T_d3411_row9_col1, #T_d3411_row10_col0, #T_d3411_row11_col5 {\n",
              "  background-color: #455cce;\n",
              "  color: #f1f1f1;\n",
              "}\n",
              "#T_d3411_row9_col5 {\n",
              "  background-color: #6384eb;\n",
              "  color: #f1f1f1;\n",
              "}\n",
              "#T_d3411_row9_col7 {\n",
              "  background-color: #bcd2f7;\n",
              "  color: #000000;\n",
              "}\n",
              "#T_d3411_row9_col10 {\n",
              "  background-color: #a1c0ff;\n",
              "  color: #000000;\n",
              "}\n",
              "#T_d3411_row10_col6, #T_d3411_row11_col8 {\n",
              "  background-color: #7597f6;\n",
              "  color: #f1f1f1;\n",
              "}\n",
              "#T_d3411_row10_col7 {\n",
              "  background-color: #bed2f6;\n",
              "  color: #000000;\n",
              "}\n",
              "#T_d3411_row10_col9 {\n",
              "  background-color: #9ebeff;\n",
              "  color: #000000;\n",
              "}\n",
              "#T_d3411_row11_col0 {\n",
              "  background-color: #6788ee;\n",
              "  color: #f1f1f1;\n",
              "}\n",
              "#T_d3411_row11_col3 {\n",
              "  background-color: #92b4fe;\n",
              "  color: #000000;\n",
              "}\n",
              "</style>\n",
              "<table id=\"T_d3411\" class=\"dataframe\">\n",
              "  <thead>\n",
              "    <tr>\n",
              "      <th class=\"blank level0\" >&nbsp;</th>\n",
              "      <th id=\"T_d3411_level0_col0\" class=\"col_heading level0 col0\" >HomePlanet</th>\n",
              "      <th id=\"T_d3411_level0_col1\" class=\"col_heading level0 col1\" >CryoSleep</th>\n",
              "      <th id=\"T_d3411_level0_col2\" class=\"col_heading level0 col2\" >Cabin</th>\n",
              "      <th id=\"T_d3411_level0_col3\" class=\"col_heading level0 col3\" >Destination</th>\n",
              "      <th id=\"T_d3411_level0_col4\" class=\"col_heading level0 col4\" >Age</th>\n",
              "      <th id=\"T_d3411_level0_col5\" class=\"col_heading level0 col5\" >VIP</th>\n",
              "      <th id=\"T_d3411_level0_col6\" class=\"col_heading level0 col6\" >RoomService</th>\n",
              "      <th id=\"T_d3411_level0_col7\" class=\"col_heading level0 col7\" >FoodCourt</th>\n",
              "      <th id=\"T_d3411_level0_col8\" class=\"col_heading level0 col8\" >ShoppingMall</th>\n",
              "      <th id=\"T_d3411_level0_col9\" class=\"col_heading level0 col9\" >Spa</th>\n",
              "      <th id=\"T_d3411_level0_col10\" class=\"col_heading level0 col10\" >VRDeck</th>\n",
              "      <th id=\"T_d3411_level0_col11\" class=\"col_heading level0 col11\" >Transported</th>\n",
              "    </tr>\n",
              "  </thead>\n",
              "  <tbody>\n",
              "    <tr>\n",
              "      <th id=\"T_d3411_level0_row0\" class=\"row_heading level0 row0\" >HomePlanet</th>\n",
              "      <td id=\"T_d3411_row0_col0\" class=\"data row0 col0\" >1.00</td>\n",
              "      <td id=\"T_d3411_row0_col1\" class=\"data row0 col1\" >-0.04</td>\n",
              "      <td id=\"T_d3411_row0_col2\" class=\"data row0 col2\" >-0.00</td>\n",
              "      <td id=\"T_d3411_row0_col3\" class=\"data row0 col3\" >-0.21</td>\n",
              "      <td id=\"T_d3411_row0_col4\" class=\"data row0 col4\" >-0.12</td>\n",
              "      <td id=\"T_d3411_row0_col5\" class=\"data row0 col5\" >-0.06</td>\n",
              "      <td id=\"T_d3411_row0_col6\" class=\"data row0 col6\" >0.18</td>\n",
              "      <td id=\"T_d3411_row0_col7\" class=\"data row0 col7\" >-0.28</td>\n",
              "      <td id=\"T_d3411_row0_col8\" class=\"data row0 col8\" >0.08</td>\n",
              "      <td id=\"T_d3411_row0_col9\" class=\"data row0 col9\" >-0.20</td>\n",
              "      <td id=\"T_d3411_row0_col10\" class=\"data row0 col10\" >-0.23</td>\n",
              "      <td id=\"T_d3411_row0_col11\" class=\"data row0 col11\" >-0.09</td>\n",
              "    </tr>\n",
              "    <tr>\n",
              "      <th id=\"T_d3411_level0_row1\" class=\"row_heading level0 row1\" >CryoSleep</th>\n",
              "      <td id=\"T_d3411_row1_col0\" class=\"data row1 col0\" >-0.04</td>\n",
              "      <td id=\"T_d3411_row1_col1\" class=\"data row1 col1\" >1.00</td>\n",
              "      <td id=\"T_d3411_row1_col2\" class=\"data row1 col2\" >-0.01</td>\n",
              "      <td id=\"T_d3411_row1_col3\" class=\"data row1 col3\" >0.10</td>\n",
              "      <td id=\"T_d3411_row1_col4\" class=\"data row1 col4\" >-0.07</td>\n",
              "      <td id=\"T_d3411_row1_col5\" class=\"data row1 col5\" >-0.08</td>\n",
              "      <td id=\"T_d3411_row1_col6\" class=\"data row1 col6\" >-0.24</td>\n",
              "      <td id=\"T_d3411_row1_col7\" class=\"data row1 col7\" >-0.21</td>\n",
              "      <td id=\"T_d3411_row1_col8\" class=\"data row1 col8\" >-0.21</td>\n",
              "      <td id=\"T_d3411_row1_col9\" class=\"data row1 col9\" >-0.20</td>\n",
              "      <td id=\"T_d3411_row1_col10\" class=\"data row1 col10\" >-0.19</td>\n",
              "      <td id=\"T_d3411_row1_col11\" class=\"data row1 col11\" >0.46</td>\n",
              "    </tr>\n",
              "    <tr>\n",
              "      <th id=\"T_d3411_level0_row2\" class=\"row_heading level0 row2\" >Cabin</th>\n",
              "      <td id=\"T_d3411_row2_col0\" class=\"data row2 col0\" >-0.00</td>\n",
              "      <td id=\"T_d3411_row2_col1\" class=\"data row2 col1\" >-0.01</td>\n",
              "      <td id=\"T_d3411_row2_col2\" class=\"data row2 col2\" >1.00</td>\n",
              "      <td id=\"T_d3411_row2_col3\" class=\"data row2 col3\" >-0.00</td>\n",
              "      <td id=\"T_d3411_row2_col4\" class=\"data row2 col4\" >-0.01</td>\n",
              "      <td id=\"T_d3411_row2_col5\" class=\"data row2 col5\" >0.01</td>\n",
              "      <td id=\"T_d3411_row2_col6\" class=\"data row2 col6\" >-0.00</td>\n",
              "      <td id=\"T_d3411_row2_col7\" class=\"data row2 col7\" >-0.01</td>\n",
              "      <td id=\"T_d3411_row2_col8\" class=\"data row2 col8\" >0.02</td>\n",
              "      <td id=\"T_d3411_row2_col9\" class=\"data row2 col9\" >-0.01</td>\n",
              "      <td id=\"T_d3411_row2_col10\" class=\"data row2 col10\" >0.02</td>\n",
              "      <td id=\"T_d3411_row2_col11\" class=\"data row2 col11\" >0.02</td>\n",
              "    </tr>\n",
              "    <tr>\n",
              "      <th id=\"T_d3411_level0_row3\" class=\"row_heading level0 row3\" >Destination</th>\n",
              "      <td id=\"T_d3411_row3_col0\" class=\"data row3 col0\" >-0.21</td>\n",
              "      <td id=\"T_d3411_row3_col1\" class=\"data row3 col1\" >0.10</td>\n",
              "      <td id=\"T_d3411_row3_col2\" class=\"data row3 col2\" >-0.00</td>\n",
              "      <td id=\"T_d3411_row3_col3\" class=\"data row3 col3\" >1.00</td>\n",
              "      <td id=\"T_d3411_row3_col4\" class=\"data row3 col4\" >0.00</td>\n",
              "      <td id=\"T_d3411_row3_col5\" class=\"data row3 col5\" >0.05</td>\n",
              "      <td id=\"T_d3411_row3_col6\" class=\"data row3 col6\" >-0.04</td>\n",
              "      <td id=\"T_d3411_row3_col7\" class=\"data row3 col7\" >0.11</td>\n",
              "      <td id=\"T_d3411_row3_col8\" class=\"data row3 col8\" >-0.02</td>\n",
              "      <td id=\"T_d3411_row3_col9\" class=\"data row3 col9\" >0.05</td>\n",
              "      <td id=\"T_d3411_row3_col10\" class=\"data row3 col10\" >0.07</td>\n",
              "      <td id=\"T_d3411_row3_col11\" class=\"data row3 col11\" >0.10</td>\n",
              "    </tr>\n",
              "    <tr>\n",
              "      <th id=\"T_d3411_level0_row4\" class=\"row_heading level0 row4\" >Age</th>\n",
              "      <td id=\"T_d3411_row4_col0\" class=\"data row4 col0\" >-0.12</td>\n",
              "      <td id=\"T_d3411_row4_col1\" class=\"data row4 col1\" >-0.07</td>\n",
              "      <td id=\"T_d3411_row4_col2\" class=\"data row4 col2\" >-0.01</td>\n",
              "      <td id=\"T_d3411_row4_col3\" class=\"data row4 col3\" >0.00</td>\n",
              "      <td id=\"T_d3411_row4_col4\" class=\"data row4 col4\" >1.00</td>\n",
              "      <td id=\"T_d3411_row4_col5\" class=\"data row4 col5\" >0.09</td>\n",
              "      <td id=\"T_d3411_row4_col6\" class=\"data row4 col6\" >0.07</td>\n",
              "      <td id=\"T_d3411_row4_col7\" class=\"data row4 col7\" >0.13</td>\n",
              "      <td id=\"T_d3411_row4_col8\" class=\"data row4 col8\" >0.03</td>\n",
              "      <td id=\"T_d3411_row4_col9\" class=\"data row4 col9\" >0.12</td>\n",
              "      <td id=\"T_d3411_row4_col10\" class=\"data row4 col10\" >0.10</td>\n",
              "      <td id=\"T_d3411_row4_col11\" class=\"data row4 col11\" >-0.07</td>\n",
              "    </tr>\n",
              "    <tr>\n",
              "      <th id=\"T_d3411_level0_row5\" class=\"row_heading level0 row5\" >VIP</th>\n",
              "      <td id=\"T_d3411_row5_col0\" class=\"data row5 col0\" >-0.06</td>\n",
              "      <td id=\"T_d3411_row5_col1\" class=\"data row5 col1\" >-0.08</td>\n",
              "      <td id=\"T_d3411_row5_col2\" class=\"data row5 col2\" >0.01</td>\n",
              "      <td id=\"T_d3411_row5_col3\" class=\"data row5 col3\" >0.05</td>\n",
              "      <td id=\"T_d3411_row5_col4\" class=\"data row5 col4\" >0.09</td>\n",
              "      <td id=\"T_d3411_row5_col5\" class=\"data row5 col5\" >1.00</td>\n",
              "      <td id=\"T_d3411_row5_col6\" class=\"data row5 col6\" >0.06</td>\n",
              "      <td id=\"T_d3411_row5_col7\" class=\"data row5 col7\" >0.13</td>\n",
              "      <td id=\"T_d3411_row5_col8\" class=\"data row5 col8\" >0.02</td>\n",
              "      <td id=\"T_d3411_row5_col9\" class=\"data row5 col9\" >0.06</td>\n",
              "      <td id=\"T_d3411_row5_col10\" class=\"data row5 col10\" >0.12</td>\n",
              "      <td id=\"T_d3411_row5_col11\" class=\"data row5 col11\" >-0.04</td>\n",
              "    </tr>\n",
              "    <tr>\n",
              "      <th id=\"T_d3411_level0_row6\" class=\"row_heading level0 row6\" >RoomService</th>\n",
              "      <td id=\"T_d3411_row6_col0\" class=\"data row6 col0\" >0.18</td>\n",
              "      <td id=\"T_d3411_row6_col1\" class=\"data row6 col1\" >-0.24</td>\n",
              "      <td id=\"T_d3411_row6_col2\" class=\"data row6 col2\" >-0.00</td>\n",
              "      <td id=\"T_d3411_row6_col3\" class=\"data row6 col3\" >-0.04</td>\n",
              "      <td id=\"T_d3411_row6_col4\" class=\"data row6 col4\" >0.07</td>\n",
              "      <td id=\"T_d3411_row6_col5\" class=\"data row6 col5\" >0.06</td>\n",
              "      <td id=\"T_d3411_row6_col6\" class=\"data row6 col6\" >1.00</td>\n",
              "      <td id=\"T_d3411_row6_col7\" class=\"data row6 col7\" >-0.02</td>\n",
              "      <td id=\"T_d3411_row6_col8\" class=\"data row6 col8\" >0.05</td>\n",
              "      <td id=\"T_d3411_row6_col9\" class=\"data row6 col9\" >0.01</td>\n",
              "      <td id=\"T_d3411_row6_col10\" class=\"data row6 col10\" >-0.02</td>\n",
              "      <td id=\"T_d3411_row6_col11\" class=\"data row6 col11\" >-0.24</td>\n",
              "    </tr>\n",
              "    <tr>\n",
              "      <th id=\"T_d3411_level0_row7\" class=\"row_heading level0 row7\" >FoodCourt</th>\n",
              "      <td id=\"T_d3411_row7_col0\" class=\"data row7 col0\" >-0.28</td>\n",
              "      <td id=\"T_d3411_row7_col1\" class=\"data row7 col1\" >-0.21</td>\n",
              "      <td id=\"T_d3411_row7_col2\" class=\"data row7 col2\" >-0.01</td>\n",
              "      <td id=\"T_d3411_row7_col3\" class=\"data row7 col3\" >0.11</td>\n",
              "      <td id=\"T_d3411_row7_col4\" class=\"data row7 col4\" >0.13</td>\n",
              "      <td id=\"T_d3411_row7_col5\" class=\"data row7 col5\" >0.13</td>\n",
              "      <td id=\"T_d3411_row7_col6\" class=\"data row7 col6\" >-0.02</td>\n",
              "      <td id=\"T_d3411_row7_col7\" class=\"data row7 col7\" >1.00</td>\n",
              "      <td id=\"T_d3411_row7_col8\" class=\"data row7 col8\" >-0.01</td>\n",
              "      <td id=\"T_d3411_row7_col9\" class=\"data row7 col9\" >0.22</td>\n",
              "      <td id=\"T_d3411_row7_col10\" class=\"data row7 col10\" >0.22</td>\n",
              "      <td id=\"T_d3411_row7_col11\" class=\"data row7 col11\" >0.05</td>\n",
              "    </tr>\n",
              "    <tr>\n",
              "      <th id=\"T_d3411_level0_row8\" class=\"row_heading level0 row8\" >ShoppingMall</th>\n",
              "      <td id=\"T_d3411_row8_col0\" class=\"data row8 col0\" >0.08</td>\n",
              "      <td id=\"T_d3411_row8_col1\" class=\"data row8 col1\" >-0.21</td>\n",
              "      <td id=\"T_d3411_row8_col2\" class=\"data row8 col2\" >0.02</td>\n",
              "      <td id=\"T_d3411_row8_col3\" class=\"data row8 col3\" >-0.02</td>\n",
              "      <td id=\"T_d3411_row8_col4\" class=\"data row8 col4\" >0.03</td>\n",
              "      <td id=\"T_d3411_row8_col5\" class=\"data row8 col5\" >0.02</td>\n",
              "      <td id=\"T_d3411_row8_col6\" class=\"data row8 col6\" >0.05</td>\n",
              "      <td id=\"T_d3411_row8_col7\" class=\"data row8 col7\" >-0.01</td>\n",
              "      <td id=\"T_d3411_row8_col8\" class=\"data row8 col8\" >1.00</td>\n",
              "      <td id=\"T_d3411_row8_col9\" class=\"data row8 col9\" >0.01</td>\n",
              "      <td id=\"T_d3411_row8_col10\" class=\"data row8 col10\" >-0.01</td>\n",
              "      <td id=\"T_d3411_row8_col11\" class=\"data row8 col11\" >0.01</td>\n",
              "    </tr>\n",
              "    <tr>\n",
              "      <th id=\"T_d3411_level0_row9\" class=\"row_heading level0 row9\" >Spa</th>\n",
              "      <td id=\"T_d3411_row9_col0\" class=\"data row9 col0\" >-0.20</td>\n",
              "      <td id=\"T_d3411_row9_col1\" class=\"data row9 col1\" >-0.20</td>\n",
              "      <td id=\"T_d3411_row9_col2\" class=\"data row9 col2\" >-0.01</td>\n",
              "      <td id=\"T_d3411_row9_col3\" class=\"data row9 col3\" >0.05</td>\n",
              "      <td id=\"T_d3411_row9_col4\" class=\"data row9 col4\" >0.12</td>\n",
              "      <td id=\"T_d3411_row9_col5\" class=\"data row9 col5\" >0.06</td>\n",
              "      <td id=\"T_d3411_row9_col6\" class=\"data row9 col6\" >0.01</td>\n",
              "      <td id=\"T_d3411_row9_col7\" class=\"data row9 col7\" >0.22</td>\n",
              "      <td id=\"T_d3411_row9_col8\" class=\"data row9 col8\" >0.01</td>\n",
              "      <td id=\"T_d3411_row9_col9\" class=\"data row9 col9\" >1.00</td>\n",
              "      <td id=\"T_d3411_row9_col10\" class=\"data row9 col10\" >0.15</td>\n",
              "      <td id=\"T_d3411_row9_col11\" class=\"data row9 col11\" >-0.22</td>\n",
              "    </tr>\n",
              "    <tr>\n",
              "      <th id=\"T_d3411_level0_row10\" class=\"row_heading level0 row10\" >VRDeck</th>\n",
              "      <td id=\"T_d3411_row10_col0\" class=\"data row10 col0\" >-0.23</td>\n",
              "      <td id=\"T_d3411_row10_col1\" class=\"data row10 col1\" >-0.19</td>\n",
              "      <td id=\"T_d3411_row10_col2\" class=\"data row10 col2\" >0.02</td>\n",
              "      <td id=\"T_d3411_row10_col3\" class=\"data row10 col3\" >0.07</td>\n",
              "      <td id=\"T_d3411_row10_col4\" class=\"data row10 col4\" >0.10</td>\n",
              "      <td id=\"T_d3411_row10_col5\" class=\"data row10 col5\" >0.12</td>\n",
              "      <td id=\"T_d3411_row10_col6\" class=\"data row10 col6\" >-0.02</td>\n",
              "      <td id=\"T_d3411_row10_col7\" class=\"data row10 col7\" >0.22</td>\n",
              "      <td id=\"T_d3411_row10_col8\" class=\"data row10 col8\" >-0.01</td>\n",
              "      <td id=\"T_d3411_row10_col9\" class=\"data row10 col9\" >0.15</td>\n",
              "      <td id=\"T_d3411_row10_col10\" class=\"data row10 col10\" >1.00</td>\n",
              "      <td id=\"T_d3411_row10_col11\" class=\"data row10 col11\" >-0.20</td>\n",
              "    </tr>\n",
              "    <tr>\n",
              "      <th id=\"T_d3411_level0_row11\" class=\"row_heading level0 row11\" >Transported</th>\n",
              "      <td id=\"T_d3411_row11_col0\" class=\"data row11 col0\" >-0.09</td>\n",
              "      <td id=\"T_d3411_row11_col1\" class=\"data row11 col1\" >0.46</td>\n",
              "      <td id=\"T_d3411_row11_col2\" class=\"data row11 col2\" >0.02</td>\n",
              "      <td id=\"T_d3411_row11_col3\" class=\"data row11 col3\" >0.10</td>\n",
              "      <td id=\"T_d3411_row11_col4\" class=\"data row11 col4\" >-0.07</td>\n",
              "      <td id=\"T_d3411_row11_col5\" class=\"data row11 col5\" >-0.04</td>\n",
              "      <td id=\"T_d3411_row11_col6\" class=\"data row11 col6\" >-0.24</td>\n",
              "      <td id=\"T_d3411_row11_col7\" class=\"data row11 col7\" >0.05</td>\n",
              "      <td id=\"T_d3411_row11_col8\" class=\"data row11 col8\" >0.01</td>\n",
              "      <td id=\"T_d3411_row11_col9\" class=\"data row11 col9\" >-0.22</td>\n",
              "      <td id=\"T_d3411_row11_col10\" class=\"data row11 col10\" >-0.20</td>\n",
              "      <td id=\"T_d3411_row11_col11\" class=\"data row11 col11\" >1.00</td>\n",
              "    </tr>\n",
              "  </tbody>\n",
              "</table>\n"
            ]
          },
          "metadata": {}
        }
      ],
      "source": [
        "train_data = load_data('train.csv')\n",
        "train_data = normalize_dataframe(train_data)\n",
        "display_correlation_matrix(train_data)"
      ]
    },
    {
      "cell_type": "code",
      "execution_count": 16,
      "metadata": {
        "id": "Hx9i-gr7quaB"
      },
      "outputs": [],
      "source": [
        "X, y = create_labels_and_features(train_data)\n",
        "X_train, X_test, y_train, y_test  = split_into_test_and_train_sets(X, y)"
      ]
    },
    {
      "cell_type": "code",
      "source": [
        "best_params_ada = adaBoostGridSearch(X_train, y_train)\n",
        "aba = adaboostAlgo(best_params_ada, X_train, y_train, X_test, y_test)"
      ],
      "metadata": {
        "colab": {
          "base_uri": "https://localhost:8080/"
        },
        "id": "5HlnrTTk8mqC",
        "outputId": "82f92c6a-2ebb-4c50-bd88-b3f680b346fe"
      },
      "execution_count": 17,
      "outputs": [
        {
          "output_type": "stream",
          "name": "stdout",
          "text": [
            "Best Hyperparameters: {'algorithm': 'SAMME.R', 'learning_rate': 0.5, 'n_estimators': 300, 'random_state': 0}\n",
            "Adaboost: Training score: 0.8048605119355766 | Test score: 0.7849338700402531\n"
          ]
        }
      ]
    },
    {
      "cell_type": "code",
      "execution_count": 18,
      "metadata": {
        "id": "Z1bsnh2IrEfo",
        "colab": {
          "base_uri": "https://localhost:8080/"
        },
        "outputId": "b548c236-b486-4369-899b-9ede14cf3f7f"
      },
      "outputs": [
        {
          "output_type": "stream",
          "name": "stdout",
          "text": [
            "Best Hyperparameters: {'max_depth': 10, 'min_samples_leaf': 1, 'min_samples_split': 5, 'n_estimators': 200, 'random_state': 0}\n",
            "Random Forest: Training score: 0.8550474547023296 | Test score: 0.7855089131684876\n"
          ]
        }
      ],
      "source": [
        "best_params_rf = randomForestGridSearch(X_train, y_train)\n",
        "rf = randomForest(best_params_rf, X_train, y_train, X_test, y_test)"
      ]
    },
    {
      "cell_type": "code",
      "source": [
        "best_params_svm = svmGridSearch(X_train, y_train)\n",
        "svm = linear_svm(best_params_svm, X_train, y_train, X_test, y_test)"
      ],
      "metadata": {
        "id": "viYNtzEx8rhs",
        "colab": {
          "base_uri": "https://localhost:8080/"
        },
        "outputId": "89b82c98-f55f-41a6-d57e-618404793ae2"
      },
      "execution_count": 19,
      "outputs": [
        {
          "output_type": "stream",
          "name": "stdout",
          "text": [
            "Best Hyperparameters: {'max_iter': 500, 'random_state': 0, 'tol': 0.0001}\n",
            "SVM: Training score: 0.769485188380788 | Test score: 0.7665324899367453\n"
          ]
        }
      ]
    },
    {
      "cell_type": "markdown",
      "source": [
        "## Conclusion\n",
        "\n",
        "All three ML classifiers do fairly well on both the training and the test sets but there is still room for improvement. As can be seen in the correlation matrix some of the features have a much higher correlation to the transported label than others, especially CryoSleep is higly correlated. Also destination is somewhat correlated to the label but most other features have a low or negative correlation. I think when it comes to features there is the first part where an improvement can be achieved by dropping some of the lower correlated features such as \"Roomservice\" and \"Spa\".\n",
        "\n",
        "When we look at the results of the three ML Classifiers we get the following results:\n",
        "\n",
        "* Adaboost: 80% on the training set and 79% on the test set\n",
        "* Random Forest Classifier: 86% on the training set and 79% on the test set\n",
        "* SVM Classifier: 77% on the training set and 77% on the test set.\n",
        "\n",
        "When looking at the results it looks like the Adaboost ML Classifier performs the best while the Random Forest Classifier seems to overfit a bit on the training data. In order to get better results it would also be interesting to see how a deep learning neural network would perform on the data.\n",
        "\n"
      ],
      "metadata": {
        "id": "u8WLrWvNym6u"
      }
    }
  ],
  "metadata": {
    "colab": {
      "provenance": [],
      "authorship_tag": "ABX9TyN2gkjE+Qq4IQ2eg+3uB8ej",
      "include_colab_link": true
    },
    "kernelspec": {
      "display_name": "Python 3",
      "name": "python3"
    },
    "language_info": {
      "name": "python"
    }
  },
  "nbformat": 4,
  "nbformat_minor": 0
}